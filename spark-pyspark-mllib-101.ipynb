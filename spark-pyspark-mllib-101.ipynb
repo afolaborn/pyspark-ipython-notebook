{
 "cells": [
  {
   "cell_type": "markdown",
   "metadata": {
    "slideshow": {
     "slide_type": "-"
    }
   },
   "source": [
    "# Introduction to PySpark and MLlib\n",
    "\n",
    "\n",
    "This notebook contains basic materials and examples/exercises on using pyspark for machine learning via Spark's MLlib (Spark version 1.4.1). \n",
    "\n",
    "https://spark.apache.org/docs/1.4.1/mllib-guide.html\n",
    "\n",
    "For first time users of IPython notebook, the code cells below can be run directly from this note book either by pressing the \"play\" icon on the top , or by hitting CTRL+ Enter key. The profile setup for this IPyThon notebook allows PySpark API to be called directly from the code cells below. On top of that, the Anaconda Python distribution has also been installed which include common libraries such as numpy, scikit-learn, scipy, pandas etc. \n",
    "\n",
    "This exercise will go through the building of a machine learning pipeline with MLlib for classification purpose.\n",
    "The exercise includes:\n",
    "- loading the data into Spark dataframe\n",
    "- preprocessing the raw data\n",
    "- feature extraction/transformation\n",
    "- train classification model\n",
    "- create machine learning pipeline to wrap the featurization and classifications\n",
    "- hyperparameters tuning and cross validation\n",
    "- testing the model and visualizing the results\n",
    "\n",
    "\n",
    "\n",
    "\n"
   ]
  },
  {
   "cell_type": "code",
   "execution_count": 126,
   "metadata": {
    "collapsed": false
   },
   "outputs": [],
   "source": [
    "import pip\n",
    "\n",
    "#uncomment the line below if you wish to view the available python modules\n",
    "#sorted([\"%s==%s\" % (i.key, i.version) for i in pip.get_installed_distributions()])\n",
    " "
   ]
  },
  {
   "cell_type": "markdown",
   "metadata": {},
   "source": [
    "\n",
    "## Prediction for Bank direct marketing Campaign\n",
    "\n",
    "The following exercises on PySpark will be applied to a classifcation problem on a data set obtained from UCI Machine Learning Repository.\n",
    "\n",
    "http://archive.ics.uci.edu/ml/datasets/Bank+Marketing#\n",
    "\n",
    "This data has already been loaded into your VM and its available under the data/ folder which you can view from Jupyter.\n",
    "\n",
    "The data is related with direct marketing campaigns (phone calls) of a Portuguese banking institution. The classification goal is to predict if the client will subscribe a term deposit (variable y). This is basically a binary classifcation, where the predicted classes is either yes or no.\n",
    "Some of the headings has been renamed for clarity purpose.\n",
    "\n",
    "###Attribute Information:\n",
    "\n",
    "| Position | Heading | Description | Values |       \n",
    "| :- |:-- |:------------------------------------ | :------------|\n",
    "|1| age (numeric)  | | |\n",
    "|2| job  | |'admin.','blue-collar','entrepreneur','housemaid', 'management','retired','self-employed','services','student','technician','unemployed','unknown'|\n",
    "|3| marital  | | 'divorced','married','single','unknown'|\n",
    "|4| education | |'basic.4y','basic.6y','basic.9y','high.school', 'illiterate','professional.course','university.degree','unknown'|\n",
    "|5| default | has credit in default? | 'no','yes','unknown'|\n",
    "|6| housing | has housing loan?  | 'no','yes','unknown'|\n",
    "|7| loan | has personal loan? | 'no','yes','unknown'|\n",
    "|8| contact | contact communication type  | 'cellular','telephone'|\n",
    "|9| month | last contact month of year| 'jan', 'feb', 'mar', ..., 'nov', 'dec'|\n",
    "|10| day_of_week |last contact day of the week|'mon','tue','wed','thu','fri'|\n",
    "|11| duration |last contact duration, in seconds (numeric). Important note: this attribute highly affects the output target (e.g., if duration=0 then y='no'). Yet, the duration is not known before a call is performed. Also, after the end of the call y is obviously known. Thus, this input should only be included for benchmark purposes and should be discarded if the intention is to have a realistic predictive model.||\n",
    "|12| campaign |number of contacts performed during this campaign and for this client (numeric, includes last contact)||\n",
    "|13| pdays |number of days that passed by after the client was last contacted from a previous campaign (numeric; 999 means client was not previously contacted)||\n",
    "|14| previous |number of contacts performed before this campaign and for this client (numeric)||\n",
    "|15| outcome_of_prev | outcome of the previous marketing campaign |'failure','nonexistent','success'|\n",
    "|16| emp_variation_rate | employment variation rate - quarterly indicator (numeric) ||\n",
    "|17|consumer_price_idx | consumer price index - monthly indicator (numeric)  ||\n",
    "|18|consumer_conf_idx| consumer confidence index - monthly indicator (numeric)   ||\n",
    "|19|euribor3m|euribor 3 month rate - daily indicator (numeric)  ||\n",
    "|20|num_of_employees|number of employees - quarterly indicator (numeric) ||\n",
    "|21|has_subscribed|has the client subscribed a term deposit?  Note: This is not an attribute, rather the label of the observations | 'yes','no'|\n",
    "\n"
   ]
  },
  {
   "cell_type": "markdown",
   "metadata": {},
   "source": [
    "#  First up, Loading the data\n",
    "\n",
    "SparkSql core supports various datasource such as Parquet, Json , Avro etc.\n",
    "However for CSV, it requires to use additional Spark Package. Currently theres the following options of spark-csv by Databricks guys, and pyspark_csv. Pyspark_csv was selected due to its better performances in inferring the schema, as compared to spark-csv which seems still a bit less flexible, and defaults all columns to string types.\n"
   ]
  },
  {
   "cell_type": "code",
   "execution_count": 1,
   "metadata": {
    "collapsed": false
   },
   "outputs": [
    {
     "name": "stdout",
     "output_type": "stream",
     "text": [
      "root\n",
      " |-- age: integer (nullable = true)\n",
      " |-- job: string (nullable = true)\n",
      " |-- marital: string (nullable = true)\n",
      " |-- education: string (nullable = true)\n",
      " |-- default: string (nullable = true)\n",
      " |-- housing: string (nullable = true)\n",
      " |-- loan: string (nullable = true)\n",
      " |-- contact: string (nullable = true)\n",
      " |-- month: string (nullable = true)\n",
      " |-- day_of_week: string (nullable = true)\n",
      " |-- duration: integer (nullable = true)\n",
      " |-- campaign: integer (nullable = true)\n",
      " |-- pdays: integer (nullable = true)\n",
      " |-- previous: integer (nullable = true)\n",
      " |-- outcome_of_prev: string (nullable = true)\n",
      " |-- emp_variation_rate: double (nullable = true)\n",
      " |-- consumer_price_idx: double (nullable = true)\n",
      " |-- consumer_conf_idx: double (nullable = true)\n",
      " |-- euribor3m: double (nullable = true)\n",
      " |-- num_employees: double (nullable = true)\n",
      " |-- has_subscribed: string (nullable = true)\n",
      "\n"
     ]
    }
   ],
   "source": [
    "import os.path\n",
    "import pyspark_csv as pycsv\n",
    "\n",
    "\n",
    "#import the spark package for importing csv\n",
    "sc.addPyFile('pyspark_csv.py')\n",
    "\n",
    "#read in the csv data file\n",
    "fileName = os.path.join('data', 'bank-additional-full-data.csv')\n",
    "plainTextRdd = sc.textFile(fileName)\n",
    "rawDataFrame = pycsv.csvToDataFrame(sqlContext, plainTextRdd, parseDate=False)\n",
    "\n",
    "#Have a look at the schema of the data frame created\n",
    "rawDataFrame.printSchema()\n",
    "\n",
    "\n",
    "#we can convert this to panda dataframe if we want to\n",
    "#pandaDf = rawDataFrame.toPandas()\n",
    "\n",
    "#Alternatively, csv can be loaded via the spark-csv package. Not using this because \n",
    "#by default all fields are read in as String for CSV :(\n",
    "#rawDataFrame = sqlContext.read.format('com.databricks.spark.csv').options(header='true').load(fileName)\n"
   ]
  },
  {
   "cell_type": "markdown",
   "metadata": {},
   "source": [
    "## Data Preprocessing\n",
    "\n",
    "Preprocess the data if required.\n",
    "\n",
    "As noted above, the \"duration\" column should not be used as part of the features as it wont be known till phone calls.\n",
    "So next step we going to remove the duration column. \n",
    "\n",
    "The label column currently is in string format. But the MLlib classifiers such as Logistic regression and decision trees expect the Dataframe to contain the following structures for training:\n",
    "    - \"features\" : single vector column representing the feature vectors for the observation \n",
    "    - \"label\": double type, representing the label\n",
    "    \n",
    "There's no missing values in the datasets. If replacement of missing values is required, we could use the Dataframe.fillna function (similar to pandas).\n"
   ]
  },
  {
   "cell_type": "code",
   "execution_count": 2,
   "metadata": {
    "collapsed": false
   },
   "outputs": [
    {
     "name": "stdout",
     "output_type": "stream",
     "text": [
      "Number of observations originally: 41188\n",
      "Number of columns originally: 21\n",
      "Number of filtered observations: 41188\n",
      "Number of columns now: 20\n",
      "+-------+------------------+\n",
      "|summary|               age|\n",
      "+-------+------------------+\n",
      "|  count|             41188|\n",
      "|   mean| 40.02406040594348|\n",
      "| stddev|10.421123471838722|\n",
      "|    min|                17|\n",
      "|    max|                98|\n",
      "+-------+------------------+\n",
      "\n",
      "+---+---------+-------+-----------+-------+-------+----+---------+-----+-----------+--------+-----+--------+---------------+------------------+------------------+-----------------+---------+-------------+--------------+-----+\n",
      "|age|      job|marital|  education|default|housing|loan|  contact|month|day_of_week|campaign|pdays|previous|outcome_of_prev|emp_variation_rate|consumer_price_idx|consumer_conf_idx|euribor3m|num_employees|has_subscribed|label|\n",
      "+---+---------+-------+-----------+-------+-------+----+---------+-----+-----------+--------+-----+--------+---------------+------------------+------------------+-----------------+---------+-------------+--------------+-----+\n",
      "| 56|housemaid|married|   basic.4y|     no|     no|  no|telephone|  may|        mon|       1|  999|       0|    nonexistent|               1.1|            93.994|            -36.4|    4.857|       5191.0|            no|  0.0|\n",
      "| 57| services|married|high.school|unknown|     no|  no|telephone|  may|        mon|       1|  999|       0|    nonexistent|               1.1|            93.994|            -36.4|    4.857|       5191.0|            no|  0.0|\n",
      "| 37| services|married|high.school|     no|    yes|  no|telephone|  may|        mon|       1|  999|       0|    nonexistent|               1.1|            93.994|            -36.4|    4.857|       5191.0|            no|  0.0|\n",
      "+---+---------+-------+-----------+-------+-------+----+---------+-----+-----------+--------+-----+--------+---------------+------------------+------------------+-----------------+---------+-------------+--------------+-----+\n",
      "\n"
     ]
    }
   ],
   "source": [
    "from pyspark.sql.types import *\n",
    "from pyspark.sql.functions import UserDefinedFunction\n",
    "\n",
    "# Number of records\n",
    "print \"Number of observations originally: %s\" % rawDataFrame.count()\n",
    "print \"Number of columns originally: %s\" % len(rawDataFrame.columns)\n",
    "\n",
    "#Remove duration column as its only for benchmark purpose. We wont know duration till after we know the outcome of\n",
    "#whether the customer signed up for the term deposit.\n",
    "filteredDf = rawDataFrame.drop(\"duration\")\n",
    "\n",
    "print \"Number of filtered observations: %s\" % filteredDf.count()\n",
    "print \"Number of columns now: %s\" % len(filteredDf.columns)\n",
    "filteredDf.describe(\"age\").show()\n",
    "\n",
    "#Add the label column , that basically corresponds to the has_subscribed column\n",
    "toDouble = UserDefinedFunction(lambda x: 1. if x == \"yes\" else 0., DoubleType())\n",
    "filteredDf = filteredDf.withColumn(\"label\", toDouble(filteredDf[\"has_subscribed\"]))\n",
    "filteredDf.show(3)\n"
   ]
  },
  {
   "cell_type": "code",
   "execution_count": 3,
   "metadata": {
    "collapsed": false
   },
   "outputs": [
    {
     "name": "stdout",
     "output_type": "stream",
     "text": [
      "+--------------+-----+\n",
      "|has_subscribed|count|\n",
      "+--------------+-----+\n",
      "|            no|36548|\n",
      "|           yes| 4640|\n",
      "+--------------+-----+\n",
      "\n"
     ]
    },
    {
     "data": {
      "image/png": "[encoded data removed]",
      "text/plain": [
       "<matplotlib.figure.Figure at 0x10a13c610>"
      ]
     },
     "metadata": {},
     "output_type": "display_data"
    }
   ],
   "source": [
    "import matplotlib.pyplot as plt\n",
    "\n",
    "#Show number of customers that have signed up term deposit vs those that did not\n",
    "numOfSignUps = filteredDf.groupBy(\"has_subscribed\").count()\n",
    "numOfSignUps.show()\n",
    "\n",
    "labels = numOfSignUps.map(lambda row: row.has_subscribed).collect()\n",
    "sizes = numOfSignUps.map(lambda row: row.count).collect()\n",
    "colors = ['pink', 'yellowgreen']\n",
    "plt.pie(sizes, labels=labels, colors=colors, shadow=True,autopct='%1.1f%%', startangle=90)\n",
    "# Set aspect ratio to be equal so that pie is drawn as a circle.\n",
    "plt.axis('equal')\n",
    "plt.show()\n"
   ]
  },
  {
   "cell_type": "markdown",
   "metadata": {},
   "source": [
    "## Creating Datasets\n",
    "\n",
    "We will need 3 sets of data,\n",
    "- training set : for training our classification models\n",
    "- validation set : for evaluating the performance of our trained models (and hyperparameters tuning)\n",
    "- test set: for testing the models (unseen samples, not used in training nor model selection)\n",
    "\n",
    "Our goal is to create model that can generalized well to the dataset, to avoid overfitting.\n",
    "\n"
   ]
  },
  {
   "cell_type": "code",
   "execution_count": 4,
   "metadata": {
    "collapsed": false
   },
   "outputs": [
    {
     "name": "stdout",
     "output_type": "stream",
     "text": [
      "Num of training observations : 24721\n",
      "Num of validation observations : 8225\n",
      "Num of test observations : 8242\n"
     ]
    }
   ],
   "source": [
    "# split into training, validation and test datasets\n",
    "trainingRdd, validationRdd, testRdd = filteredDf.rdd.randomSplit([6, 2, 2], seed=0L)\n",
    "trainingDf = trainingRdd.toDF() \n",
    "validationDf = validationRdd.toDF() \n",
    "testDf = testRdd.toDF() \n",
    "\n",
    "#lets cache these datasets\n",
    "trainingDf.cache()\n",
    "validationDf.cache()\n",
    "testDf.cache()\n",
    "\n",
    "\n",
    "print \"Num of training observations : %s\" % trainingDf.count()\n",
    "print \"Num of validation observations : %s\" % validationRdd.count()\n",
    "print \"Num of test observations : %s\" % testDf.count()"
   ]
  },
  {
   "cell_type": "markdown",
   "metadata": {},
   "source": [
    "## Categorical Feature Transform/Extraction\n",
    "\n",
    "For the categorical attributes, we need to convert those text-based categories into numeric features before attempting to train/build a classification model with these data. \n",
    "\n",
    "For example, the attribute of \"marital\", is a categorical feature with 4 possible values of 'divorced','married','single','unknown'. \n",
    "\n",
    "We will be using the out-of-the-box MLlib featurization technique named one hot encoding to transform such categorical features into a feature vectors consist of a set of numeric values (binary 0 and 1 in this case). Refer to the MLLib documentation for more information about one hot encoding\n",
    "https://spark.apache.org/docs/latest/api/python/pyspark.ml.html\n",
    "\n",
    "\n",
    "\n",
    "\n"
   ]
  },
  {
   "cell_type": "code",
   "execution_count": 7,
   "metadata": {
    "collapsed": false
   },
   "outputs": [
    {
     "name": "stdout",
     "output_type": "stream",
     "text": [
      "20 string indexer and one hot encoders transformers\n",
      "feature columns: ['age', 'campaign', 'pdays', 'previous', 'emp_variation_rate', 'consumer_price_idx', 'consumer_conf_idx', 'euribor3m', 'num_employees', 'jobVec', 'maritalVec', 'educationVec', 'defaultVec', 'housingVec', 'loanVec', 'contactVec', 'monthVec', 'day_of_weekVec', 'outcome_of_prevVec']\n"
     ]
    }
   ],
   "source": [
    "from pyspark.ml.feature import OneHotEncoder, StringIndexer\n",
    "from pyspark.ml.feature import VectorAssembler\n",
    "from pyspark.ml import Pipeline\n",
    "\n",
    "#encode the categorical attributes (Refer to the table at the top)\n",
    "categoricalAttributes = ['job', 'marital', 'education', 'default', \n",
    "                         'housing', 'loan', 'contact', \n",
    "                         'month', 'day_of_week', 'outcome_of_prev']\n",
    "\n",
    "#Build a list of pipelist stages for the machine learning pipeline. \n",
    "#start by the feature transformer of one hot encoder for building the categorical features\n",
    "pipelineStages = []\n",
    "for columnName in categoricalAttributes:\n",
    "    stringIndexer = StringIndexer(inputCol=columnName, outputCol=columnName+ \"Index\")\n",
    "    pipelineStages.append(stringIndexer)\n",
    "    oneHotEncoder = OneHotEncoder(inputCol=columnName+ \"Index\", outputCol=columnName + \"Vec\")\n",
    "    pipelineStages.append(oneHotEncoder)\n",
    "\n",
    "\n",
    "print \"%s string indexer and one hot encoders transformers\" %  len(pipelineStages) \n",
    "assert len(pipelineStages) == len(categoricalAttributes)*2\n",
    "\n",
    "# Combine all the feature columns into a single column in the dataframe\n",
    "numericColumns = ['age', 'campaign', 'pdays', 'previous',\n",
    "           'emp_variation_rate', 'consumer_price_idx', 'consumer_conf_idx', 'euribor3m', 'num_employees']\n",
    "\n",
    "categoricalCols = [s + \"Vec\" for s in categoricalAttributes]\n",
    "allFeatureCols =  numericColumns + categoricalCols\n",
    "vectorAssembler = VectorAssembler(\n",
    "    inputCols=allFeatureCols,\n",
    "    outputCol=\"features\")\n",
    "pipelineStages.append(vectorAssembler)\n",
    "\n",
    "featurePipeline = Pipeline(stages=pipelineStages)\n",
    "\n",
    "print \"feature columns: %s\" % allFeatureCols"
   ]
  },
  {
   "cell_type": "markdown",
   "metadata": {},
   "source": [
    "## Creating Machine Learning Pipeline\n",
    "\n",
    "In the previous steps, we have chain together a list of feature encoders to encode our categorical features.\n",
    "Next we will proceed to use MLlib Pipeline api to build the ML pipeline. The advantage of the pipeline API is that its higher level API and more modular. \n",
    "\n",
    "https://spark.apache.org/docs/latest/ml-guide.html#migration-guide\n",
    "\n",
    "\n",
    "\n"
   ]
  },
  {
   "cell_type": "code",
   "execution_count": 8,
   "metadata": {
    "collapsed": false
   },
   "outputs": [
    {
     "name": "stdout",
     "output_type": "stream",
     "text": [
      "==========================================\n",
      "Training accuracy (%) = 89.9761336516\n",
      "==========================================\n"
     ]
    }
   ],
   "source": [
    "from pyspark.ml.classification import LogisticRegression\n",
    "\n",
    "# Configure an machine learning pipeline, which consists of the \n",
    "# transformers (stringIndexer + one hot encoders + vector assembler)\n",
    "# and estimator (a linear regression)\n",
    "lr = LogisticRegression(maxIter=10, regParam=0.01)\n",
    "completeStages = pipelineStages + [lr]\n",
    "mlPipeline = Pipeline(stages=completeStages)\n",
    "\n",
    "# Fit the pipeline to training data.\n",
    "firstPipelineModel = mlPipeline.fit(testDf)\n",
    "\n",
    "\n",
    "# Evaluating the model on training data\n",
    "trainingResults = firstPipelineModel.transform(trainingDf)\n",
    "labelsAndPreds = trainingResults.map(lambda p: (p.label, p.prediction))\n",
    "trainAccuracy = labelsAndPreds.filter(lambda (l, p): l == p).count() / float(labelsAndPreds.count())\n",
    "print \"==========================================\"\n",
    "print(\"Training accuracy (%) = \" + str(trainAccuracy* 100))\n",
    "print \"==========================================\"\n"
   ]
  },
  {
   "cell_type": "code",
   "execution_count": 9,
   "metadata": {
    "collapsed": false
   },
   "outputs": [
    {
     "name": "stdout",
     "output_type": "stream",
     "text": [
      "+--------------+-----+--------------------+--------------------+----------+\n",
      "|has_subscribed|label|       rawPrediction|         probability|prediction|\n",
      "+--------------+-----+--------------------+--------------------+----------+\n",
      "|            no|  0.0|[2.87596446619375...|[0.94664540433528...|       0.0|\n",
      "|            no|  0.0|[2.78794640810369...|[0.94202098453235...|       0.0|\n",
      "|            no|  0.0|[3.29499307213042...|[0.96425664367089...|       0.0|\n",
      "|            no|  0.0|[2.78554305189142...|[0.94188957981401...|       0.0|\n",
      "|            no|  0.0|[2.83458372074327...|[0.94451630314769...|       0.0|\n",
      "|            no|  0.0|[3.00623802201272...|[0.95285514554613...|       0.0|\n",
      "|            no|  0.0|[3.07098416843018...|[0.95567987640093...|       0.0|\n",
      "|            no|  0.0|[3.20031628538030...|[0.96084617784691...|       0.0|\n",
      "|            no|  0.0|[3.27727378630684...|[0.96364088556458...|       0.0|\n",
      "|            no|  0.0|[2.77871559442571...|[0.94151475912177...|       0.0|\n",
      "|            no|  0.0|[3.07776034601945...|[0.95596600257811...|       0.0|\n",
      "|            no|  0.0|[2.97441893142045...|[0.95140498783958...|       0.0|\n",
      "|            no|  0.0|[3.16702978564613...|[0.95957452337470...|       0.0|\n",
      "|            no|  0.0|[2.88214374292630...|[0.94695664651835...|       0.0|\n",
      "|            no|  0.0|[2.76549615415634...|[0.94078257157105...|       0.0|\n",
      "|            no|  0.0|[3.11269307260073...|[0.95741329600034...|       0.0|\n",
      "|            no|  0.0|[2.81527505532434...|[0.94349569943894...|       0.0|\n",
      "|            no|  0.0|[2.80595975404624...|[0.94299702960656...|       0.0|\n",
      "|            no|  0.0|[2.78623703676975...|[0.94192755245783...|       0.0|\n",
      "|            no|  0.0|[2.83361339998811...|[0.94446543130166...|       0.0|\n",
      "|            no|  0.0|[3.28042053749179...|[0.96375097798096...|       0.0|\n",
      "|            no|  0.0|[3.01265878441255...|[0.95314274320030...|       0.0|\n",
      "|            no|  0.0|[2.79964097967102...|[0.94265642023575...|       0.0|\n",
      "|            no|  0.0|[2.84396031260159...|[0.94500564267081...|       0.0|\n",
      "|            no|  0.0|[3.23532517522318...|[0.96214219831369...|       0.0|\n",
      "|            no|  0.0|[3.15045639549475...|[0.95892670128711...|       0.0|\n",
      "|            no|  0.0|[3.28503653737192...|[0.96391189332411...|       0.0|\n",
      "|            no|  0.0|[2.85642236506464...|[0.94564971510556...|       0.0|\n",
      "|            no|  0.0|[2.82696354444172...|[0.94411561053183...|       0.0|\n",
      "|            no|  0.0|[3.11296608252369...|[0.95742442606488...|       0.0|\n",
      "|            no|  0.0|[2.81230208465997...|[0.94333699658861...|       0.0|\n",
      "|            no|  0.0|[2.74394103909913...|[0.93957024901047...|       0.0|\n",
      "|            no|  0.0|[3.30940020172817...|[0.96474988881485...|       0.0|\n",
      "|            no|  0.0|[2.75849196978773...|[0.94039115656051...|       0.0|\n",
      "|            no|  0.0|[3.26430282429584...|[0.96318367711117...|       0.0|\n",
      "|            no|  0.0|[2.96509815312862...|[0.95097223765202...|       0.0|\n",
      "|            no|  0.0|[3.04778558784254...|[0.95468682768800...|       0.0|\n",
      "|            no|  0.0|[3.33721435232018...|[0.96568364911178...|       0.0|\n",
      "|            no|  0.0|[2.92561888600432...|[0.94909843680901...|       0.0|\n",
      "|            no|  0.0|[2.84075010627590...|[0.94483856978857...|       0.0|\n",
      "|            no|  0.0|[3.13314375827918...|[0.95823937707839...|       0.0|\n",
      "|            no|  0.0|[3.23252538446250...|[0.96204008502942...|       0.0|\n",
      "|            no|  0.0|[3.05505611797974...|[0.95500031230986...|       0.0|\n",
      "|            no|  0.0|[2.79866640822946...|[0.94260371675819...|       0.0|\n",
      "|           yes|  1.0|[3.09795550082291...|[0.95680833265081...|       0.0|\n",
      "|            no|  0.0|[3.28393782456106...|[0.96387365428238...|       0.0|\n",
      "|            no|  0.0|[2.95763690670339...|[0.95062319133678...|       0.0|\n",
      "|            no|  0.0|[2.97225256619163...|[0.95130473111006...|       0.0|\n",
      "|            no|  0.0|[2.81765372017735...|[0.94362237608944...|       0.0|\n",
      "|            no|  0.0|[2.69736197292249...|[0.93687080041992...|       0.0|\n",
      "+--------------+-----+--------------------+--------------------+----------+\n",
      "\n"
     ]
    }
   ],
   "source": [
    "# Run the prediction with our trained model on test data (which has not been used in training)\n",
    "# Make predictions on test observations and print results.\n",
    "prediction = firstPipelineModel.transform(testDf)\n",
    "selected = prediction.select(\"has_subscribed\", \"label\",\"rawPrediction\",\"probability\", \"prediction\")\n",
    "selected.show(50)"
   ]
  },
  {
   "cell_type": "markdown",
   "metadata": {},
   "source": [
    "## Clustering - unsupervised classification...\n",
    "\n",
    "MLLib offers some clustering methods. This could be useful when you are dealing with unlabeled data, where its impossible to apply supervised learning algorithms. On the other hand, even for labelled, it may be good for exploratory purpose to see the outcome of clustering on the training dataset.\n",
    "\n",
    "List of supporting clustering techniques out of the box by Spark currently are:\n",
    "- K-means\n",
    "- Gaussian mixture\n",
    "- Power iteration clustering (PIC)\n",
    "- Latent Dirichlet allocation (LDA)\n",
    "- Streaming k-means\n"
   ]
  },
  {
   "cell_type": "code",
   "execution_count": 10,
   "metadata": {
    "collapsed": false
   },
   "outputs": [
    {
     "name": "stdout",
     "output_type": "stream",
     "text": [
      "==========================================\n",
      "GMM accuracy against training set(%) = 88.9688928441\n",
      "==========================================\n"
     ]
    }
   ],
   "source": [
    "from pyspark.mllib.clustering import KMeans, KMeansModel, GaussianMixture\n",
    "from numpy import array\n",
    "from math import sqrt\n",
    "\n",
    "# Extract the \"features\" from the training set into vector format for GMM \n",
    "trainingFeatures = trainingResults.select(\"features\").rdd.map(lambda row: row.features)\n",
    "\n",
    "# Build the model (cluster the data)\n",
    "numOfClusters = 2\n",
    "gmm = GaussianMixture.train(trainingFeatures, numOfClusters)\n",
    "\n",
    "# output parameters of model\n",
    "#for i in range(2):\n",
    "#    print (\"weight = \", gmm.weights[i], \"mu = \", gmm.gaussians[i].mu,\n",
    "#        \"sigma = \", gmm.gaussians[i].sigma.toArray())\n",
    "\n",
    "# Predict with GMM cluster model\n",
    "predictedLabels = gmm.predict(trainingFeatures).collect()\n",
    "actualLabels = trainingResults.select(\"label\").rdd.map(lambda row: row.label).zipWithIndex()\n",
    "actualAndPred = actualLabels.map(lambda (l, i): (l, predictedLabels[i]))\n",
    "gmmAccuracy = actualAndPred.filter(lambda (l, p): l == p).count() / float(actualAndPred.count())\n",
    "print \"==========================================\"\n",
    "print(\"GMM accuracy against training set(%) = \" + str(gmmAccuracy* 100))\n",
    "print \"==========================================\"\n"
   ]
  },
  {
   "cell_type": "markdown",
   "metadata": {},
   "source": [
    "\n"
   ]
  }
 ],
 "metadata": {
  "celltoolbar": "Edit Metadata",
  "kernelspec": {
   "display_name": "Python 2",
   "language": "python",
   "name": "python2"
  },
  "language_info": {
   "codemirror_mode": {
    "name": "ipython",
    "version": 2
   },
   "file_extension": ".py",
   "mimetype": "text/x-python",
   "name": "python",
   "nbconvert_exporter": "python",
   "pygments_lexer": "ipython2",
   "version": "2.7.10"
  }
 },
 "nbformat": 4,
 "nbformat_minor": 0
}
